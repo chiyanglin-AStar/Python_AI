{
  "cells": [
    {
      "cell_type": "markdown",
      "metadata": {
        "id": "view-in-github",
        "colab_type": "text"
      },
      "source": [
        "<a href=\"https://colab.research.google.com/github/chiyanglin-AStar/Python_AI/blob/main/supervised_linear_regression.ipynb\" target=\"_parent\"><img src=\"https://colab.research.google.com/assets/colab-badge.svg\" alt=\"Open In Colab\"/></a>"
      ]
    },
    {
      "cell_type": "markdown",
      "source": [
        "simplest linear regression example with python Ex1:"
      ],
      "metadata": {
        "id": "RfFJG8FowxEB"
      }
    },
    {
      "cell_type": "code",
      "source": [
        "# prompt: please give simplest linear regression example without scikitlearn\n",
        "\n",
        "# Import the necessary libraries\n",
        "\n",
        "import numpy as np\n",
        "\n",
        "# Create some data\n",
        "X = np.array([[1], [2], [3], [4]])\n",
        "y = np.array([2, 4, 6, 8])\n",
        "\n",
        "# Calculate the means of X and y\n",
        "mean_x = np.mean(X)\n",
        "mean_y = np.mean(y)\n",
        "\n",
        "# Calculate the numerator and denominator of the slope\n",
        "num = 0\n",
        "den = 0\n",
        "for i in range(len(X)):\n",
        "  num += (X[i] - mean_x) * (y[i] - mean_y)\n",
        "  den += (X[i] - mean_x) ** 2\n",
        "\n",
        "# Calculate the slope and intercept\n",
        "slope = num / den\n",
        "intercept = mean_y - slope * mean_x\n",
        "\n",
        "# Make predictions\n",
        "y_pred = slope * X + intercept\n",
        "\n",
        "# Print the predictions\n",
        "print(y_pred)\n"
      ],
      "metadata": {
        "colab": {
          "base_uri": "https://localhost:8080/"
        },
        "id": "ekXbeBUkthwK",
        "outputId": "4a8433c2-231c-4248-aec6-acce3af74dde"
      },
      "execution_count": null,
      "outputs": [
        {
          "output_type": "stream",
          "name": "stdout",
          "text": [
            "[[2.]\n",
            " [4.]\n",
            " [6.]\n",
            " [8.]]\n"
          ]
        }
      ]
    },
    {
      "cell_type": "markdown",
      "source": [
        "simplest linear regression example with python Ex2:"
      ],
      "metadata": {
        "id": "-83S9FisxGEY"
      }
    },
    {
      "cell_type": "code",
      "source": [
        "def predict(x, m, b):\n",
        "  return m * x + b\n",
        "\n",
        "# Create some data\n",
        "X = np.array([1, 2, 3, 4])\n",
        "y = np.array([2, 4, 6, 8])\n",
        "\n",
        "# Initialize the parameters\n",
        "m = 0\n",
        "b = 0\n",
        "\n",
        "# Perform gradient descent\n",
        "for i in range(1000):\n",
        "  # Calculate the gradients\n",
        "  y_predicted = predict(X, m, b)\n",
        "  gradient_m = -2 * np.sum(X * (y - y_predicted))\n",
        "  gradient_b = -2 * np.sum(y - y_predicted)\n",
        "\n",
        "  # Update the parameters\n",
        "  m -= 0.01 * gradient_m\n",
        "  b -= 0.01 * gradient_b\n",
        "\n",
        "# Make predictions\n",
        "X_test = np.array([5])\n",
        "y_pred = predict(X_test, m, b)\n",
        "\n",
        "# Print the predictions\n",
        "print(y_pred)\n"
      ],
      "metadata": {
        "colab": {
          "base_uri": "https://localhost:8080/"
        },
        "id": "AqwX9OnsuDJE",
        "outputId": "dbbe6f7f-3f14-4325-f9d0-a8e83bfcbb84"
      },
      "execution_count": null,
      "outputs": [
        {
          "output_type": "stream",
          "name": "stdout",
          "text": [
            "[9.9999975]\n"
          ]
        }
      ]
    },
    {
      "cell_type": "markdown",
      "source": [
        "simplest linear regression example with python Ex3:"
      ],
      "metadata": {
        "id": "_Jl3IokLxJIT"
      }
    },
    {
      "cell_type": "code",
      "source": [
        "# prompt: please give simplest linear regression example without scikitlearn\n",
        "\n",
        "# Create a simple dataset\n",
        "X = np.array([[1], [2], [3], [4]])\n",
        "y = np.array([2, 4, 6, 8])\n",
        "\n",
        "# Calculate the means of X and y\n",
        "mean_x = np.mean(X)\n",
        "mean_y = np.mean(y)\n",
        "\n",
        "# Calculate the slope of the regression line\n",
        "slope = np.sum((X - mean_x) * (y - mean_y)) / np.sum((X - mean_x) ** 2)\n",
        "\n",
        "# Calculate the intercept of the regression line\n",
        "intercept = mean_y - slope * mean_x\n",
        "\n",
        "# Make predictions\n",
        "y_pred = slope * X + intercept\n",
        "\n",
        "# Print the predictions\n",
        "print(y_pred)\n"
      ],
      "metadata": {
        "colab": {
          "base_uri": "https://localhost:8080/"
        },
        "id": "NwZFIKyiuL4f",
        "outputId": "393f3d7c-b8ba-4d4e-c69f-2334857d0297"
      },
      "execution_count": null,
      "outputs": [
        {
          "output_type": "stream",
          "name": "stdout",
          "text": [
            "[[5.]\n",
            " [5.]\n",
            " [5.]\n",
            " [5.]]\n"
          ]
        }
      ]
    },
    {
      "cell_type": "markdown",
      "source": [
        "simplest linear regression example with python Ex4:"
      ],
      "metadata": {
        "id": "0g7SchdJxTf6"
      }
    },
    {
      "cell_type": "code",
      "source": [
        "# prompt: please give simplest linear regression example without scikitlearn\n",
        "\n",
        "# Import the necessary libraries\n",
        "\n",
        "import numpy as np\n",
        "\n",
        "# Create some data\n",
        "X = np.array([[1], [2], [3], [4]])\n",
        "y = np.array([2, 4, 6, 8])\n",
        "\n",
        "# Calculate the means of X and y\n",
        "mean_x = np.mean(X)\n",
        "mean_y = np.mean(y)\n",
        "\n",
        "# Calculate the numerator and denominator of the slope\n",
        "num = 0\n",
        "den = 0\n",
        "for i in range(len(X)):\n",
        "  num += (X[i] - mean_x) * (y[i] - mean_y)\n",
        "  den += (X[i] - mean_x) ** 2\n",
        "\n",
        "# Calculate the slope and intercept\n",
        "slope = num / den\n",
        "intercept = mean_y - slope * mean_x\n",
        "\n",
        "# Make predictions\n",
        "y_pred = slope * X + intercept\n",
        "\n",
        "# Print the predictions\n",
        "print(y_pred)"
      ],
      "metadata": {
        "colab": {
          "base_uri": "https://localhost:8080/"
        },
        "id": "pb-Vw7xbuVCx",
        "outputId": "71837214-61c1-4394-dff3-6fa870a90ae5"
      },
      "execution_count": null,
      "outputs": [
        {
          "output_type": "stream",
          "name": "stdout",
          "text": [
            "[[2.]\n",
            " [4.]\n",
            " [6.]\n",
            " [8.]]\n"
          ]
        }
      ]
    },
    {
      "cell_type": "markdown",
      "source": [
        "simplest Supervised Learning example with python Ex1:"
      ],
      "metadata": {
        "id": "fYYMO9lKtV-Q"
      }
    },
    {
      "cell_type": "code",
      "source": [
        "# prompt: can give simplest Supervised Learning example with python\n",
        "\n",
        "# Import the necessary libraries\n",
        "import numpy as np\n",
        "from sklearn.linear_model import LinearRegression\n",
        "\n",
        "# Create some data\n",
        "X = np.array([[1], [2], [3], [4]])\n",
        "y = np.array([2, 4, 6, 8])\n",
        "\n",
        "# Create a linear regression model\n",
        "model = LinearRegression()\n",
        "\n",
        "# Train the model\n",
        "model.fit(X, y)\n",
        "\n",
        "# Make predictions\n",
        "y_pred = model.predict([[5]])\n",
        "\n",
        "# Print the predictions\n",
        "print(y_pred)"
      ],
      "metadata": {
        "colab": {
          "base_uri": "https://localhost:8080/"
        },
        "id": "PzFqAQQBs31g",
        "outputId": "f3f24d3b-4ef8-4b8b-fbff-69d8e7427f50"
      },
      "execution_count": null,
      "outputs": [
        {
          "output_type": "stream",
          "name": "stdout",
          "text": [
            "[10.]\n"
          ]
        }
      ]
    },
    {
      "cell_type": "markdown",
      "source": [
        "simplest Supervised Learning example with python Ex2:"
      ],
      "metadata": {
        "id": "8inVSEYWtZ-w"
      }
    },
    {
      "cell_type": "code",
      "source": [
        "# prompt: can give simplest Supervised Learning example with python\n",
        "\n",
        "import numpy as np\n",
        "from sklearn.linear_model import LinearRegression\n",
        "\n",
        "# Create a simple dataset\n",
        "X = np.array([[1], [2], [3], [4]])\n",
        "y = np.array([2, 4, 6, 8])\n",
        "\n",
        "# Train the linear regression model\n",
        "model = LinearRegression()\n",
        "model.fit(X, y)\n",
        "\n",
        "# Make predictions\n",
        "y_pred = model.predict(np.array([[5], [6]]))\n",
        "\n",
        "# Print the predictions\n",
        "print(y_pred)"
      ],
      "metadata": {
        "colab": {
          "base_uri": "https://localhost:8080/"
        },
        "id": "vBZsVShXs8Nj",
        "outputId": "12b66855-2877-40a6-abd9-4edb0f2f9e5a"
      },
      "execution_count": null,
      "outputs": [
        {
          "output_type": "stream",
          "name": "stdout",
          "text": [
            "[10. 12.]\n"
          ]
        }
      ]
    },
    {
      "cell_type": "markdown",
      "source": [
        "simplest Supervised Learning example with python Ex3:"
      ],
      "metadata": {
        "id": "-4-L0SFltcUZ"
      }
    },
    {
      "cell_type": "code",
      "source": [
        "# prompt: can give simplest Supervised Learning example with python\n",
        "\n",
        "# Import the necessary libraries\n",
        "from sklearn.linear_model import LinearRegression\n",
        "\n",
        "# Create a linear regression model\n",
        "model = LinearRegression()\n",
        "\n",
        "# Prepare the training data\n",
        "X_train = [[1], [2], [3], [4]]\n",
        "y_train = [2, 4, 6, 8]\n",
        "\n",
        "# Train the model\n",
        "model.fit(X_train, y_train)\n",
        "\n",
        "# Make predictions\n",
        "X_test = [[5]]\n",
        "y_pred = model.predict(X_test)\n",
        "\n",
        "# Print the predictions\n",
        "print(y_pred)"
      ],
      "metadata": {
        "colab": {
          "base_uri": "https://localhost:8080/"
        },
        "id": "rP-AbjOEtB-p",
        "outputId": "dbd42f11-0a9e-4593-ed67-ebdc8e7a15c7"
      },
      "execution_count": null,
      "outputs": [
        {
          "output_type": "stream",
          "name": "stdout",
          "text": [
            "[10.]\n"
          ]
        }
      ]
    },
    {
      "cell_type": "markdown",
      "source": [
        "simplest Supervised Learning example with python Ex4:"
      ],
      "metadata": {
        "id": "roSDcPhDtexr"
      }
    },
    {
      "cell_type": "code",
      "source": [
        "# prompt: can give simplest Supervised Learning example with python\n",
        "\n",
        "# Import the necessary libraries\n",
        "from sklearn.linear_model import LinearRegression\n",
        "\n",
        "# Create a linear regression model\n",
        "model = LinearRegression()\n",
        "\n",
        "# Prepare the training data\n",
        "X = [[1], [2], [3], [4]]\n",
        "y = [2, 4, 6, 8]\n",
        "\n",
        "# Train the model\n",
        "model.fit(X, y)\n",
        "\n",
        "# Prepare the test data\n",
        "X_test = [[5]]\n",
        "\n",
        "# Predict the output for the test data\n",
        "y_predicted = model.predict(X_test)\n",
        "\n",
        "# Print the predicted output\n",
        "print(y_predicted)\n"
      ],
      "metadata": {
        "colab": {
          "base_uri": "https://localhost:8080/"
        },
        "id": "djiBlSW5tJj6",
        "outputId": "b79daab4-3a65-4fd0-ae2f-95a7ec2a1ea2"
      },
      "execution_count": null,
      "outputs": [
        {
          "output_type": "stream",
          "name": "stdout",
          "text": [
            "[10.]\n"
          ]
        }
      ]
    },
    {
      "cell_type": "code",
      "source": [
        "# prompt: please give simplest linear regression example without scikitlearn\n",
        "\n",
        "import numpy as np\n",
        "\n",
        "# Create a simple dataset\n",
        "X = np.array([[1], [2], [3], [4]])\n",
        "y = np.array([2, 4, 6, 8])\n",
        "\n",
        "# Calculate the mean of X and y\n",
        "mean_x = np.mean(X)\n",
        "mean_y = np.mean(y)\n",
        "\n",
        "# Calculate the slope of the regression line\n",
        "m = np.sum((X - mean_x) * (y - mean_y)) / np.sum((X - mean_x) ** 2)\n",
        "\n",
        "# Calculate the y-intercept of the regression line\n",
        "b = mean_y - m * mean_x\n",
        "\n",
        "# Print the slope and y-intercept\n",
        "print(\"Slope:\", m)\n",
        "print(\"Y-intercept:\", b)\n",
        "\n",
        "# Make predictions\n",
        "X_test = np.array([[5]])\n",
        "y_pred = m * X_test + b\n",
        "\n",
        "# Print the predictions\n",
        "print(\"Predictions:\", y_pred)\n"
      ],
      "metadata": {
        "colab": {
          "base_uri": "https://localhost:8080/"
        },
        "id": "n0iOompquJ74",
        "outputId": "261407d7-29ee-40cb-b3d3-059e6b13ca1b"
      },
      "execution_count": null,
      "outputs": [
        {
          "output_type": "stream",
          "name": "stdout",
          "text": [
            "Slope: 0.0\n",
            "Y-intercept: 5.0\n",
            "Predictions: [[5.]]\n"
          ]
        }
      ]
    },
    {
      "cell_type": "markdown",
      "source": [
        "### Prompt: Certainly! Here's a simple example of linear regression using Python without any external frameworks:\n",
        "\n",
        "In this example, we first generate some random data with a linear relationship. Then, we use the normal equation to find the optimal parameters (theta) for the linear regression model. Finally, we plot the original data and the fitted regression line."
      ],
      "metadata": {
        "id": "QhB-WSTMyYq7"
      }
    },
    {
      "cell_type": "code",
      "source": [
        "import numpy as np\n",
        "import matplotlib.pyplot as plt\n",
        "\n",
        "# Generate some random data for demonstration\n",
        "np.random.seed(42)\n",
        "X = 2 * np.random.rand(100, 1)\n",
        "y = 4 + 3 * X + np.random.randn(100, 1)\n",
        "\n",
        "# Plot the generated data\n",
        "plt.scatter(X, y)\n",
        "plt.xlabel('X')\n",
        "plt.ylabel('y')\n",
        "plt.title('Generated Data for Linear Regression')\n",
        "plt.show()\n",
        "\n",
        "# Add bias term to X\n",
        "X_b = np.c_[np.ones((100, 1)), X]\n",
        "\n",
        "# Use the normal equation to find the best fit parameters (theta)\n",
        "theta_best = np.linalg.inv(X_b.T.dot(X_b)).dot(X_b.T).dot(y)\n",
        "\n",
        "# Print the obtained parameters\n",
        "print(\"Theta (intercept, slope):\", theta_best.flatten())\n",
        "\n",
        "# Make predictions using the obtained parameters\n",
        "X_new = np.array([[0], [2]])\n",
        "X_new_b = np.c_[np.ones((2, 1)), X_new]\n",
        "y_predict = X_new_b.dot(theta_best)\n",
        "\n",
        "# Plot the original data and the regression line\n",
        "plt.plot(X_new, y_predict, \"r-\", label=\"Predictions\")\n",
        "plt.scatter(X, y, label=\"Original Data\")\n",
        "plt.xlabel('X')\n",
        "plt.ylabel('y')\n",
        "plt.title('Linear Regression with the Fitted Line')\n",
        "plt.legend()\n",
        "plt.show()\n"
      ],
      "metadata": {
        "id": "UZcH3vpNytiw"
      },
      "execution_count": null,
      "outputs": []
    },
    {
      "cell_type": "markdown",
      "source": [
        "### Prompt: Certainly! Here's a simple example of linear regression using Python without any external frameworks:\n",
        "\n",
        "Certainly! Linear regression is a simple algorithm for predicting a continuous outcome variable based on one or more predictor variables. Here's a basic example of linear regression using Python without any frameworks:\n",
        "\n",
        "In this example, we manually calculate the slope (m) and intercept (b) using the least squares method. The linear regression equation Y = mX + b is then used to predict the outcome variable for a new value of the predictor variable (new_X)."
      ],
      "metadata": {
        "id": "Kr-vAlS3ypnh"
      }
    },
    {
      "cell_type": "code",
      "source": [
        "# Simple Linear Regression Example without any framework\n",
        "\n",
        "# Sample data\n",
        "X = [1, 2, 3, 4, 5]  # Predictor variable\n",
        "Y = [2, 4, 5, 4, 5]  # Outcome variable\n",
        "\n",
        "# Calculate mean of X and Y\n",
        "mean_X = sum(X) / len(X)\n",
        "mean_Y = sum(Y) / len(Y)\n",
        "\n",
        "# Calculate slope (m) and intercept (b)\n",
        "numerator = sum((xi - mean_X) * (yi - mean_Y) for xi, yi in zip(X, Y))\n",
        "denominator = sum((xi - mean_X)**2 for xi in X)\n",
        "\n",
        "m = numerator / denominator  # Slope\n",
        "b = mean_Y - m * mean_X  # Intercept\n",
        "\n",
        "# Predict using the linear regression equation: Y = mX + b\n",
        "new_X = 6\n",
        "predicted_Y = m * new_X + b\n",
        "\n",
        "# Print the results\n",
        "print(f\"Slope (m): {m}\")\n",
        "print(f\"Intercept (b): {b}\")\n",
        "print(f\"Predicted Y for X={new_X}: {predicted_Y}\")\n"
      ],
      "metadata": {
        "id": "3ylibIIuzF34"
      },
      "execution_count": null,
      "outputs": []
    },
    {
      "cell_type": "code",
      "source": [],
      "metadata": {
        "id": "BXaaemWjyzXH"
      },
      "execution_count": null,
      "outputs": []
    }
  ],
  "metadata": {
    "colab": {
      "name": "歡迎使用 Colaboratory",
      "toc_visible": true,
      "provenance": [],
      "include_colab_link": true
    },
    "kernelspec": {
      "display_name": "Python 3",
      "name": "python3"
    }
  },
  "nbformat": 4,
  "nbformat_minor": 0
}