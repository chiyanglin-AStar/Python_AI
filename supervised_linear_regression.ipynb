{
  "cells": [
    {
      "cell_type": "markdown",
      "metadata": {
        "id": "view-in-github",
        "colab_type": "text"
      },
      "source": [
        "<a href=\"https://colab.research.google.com/github/chiyanglin-AStar/Python_AI/blob/main/supervised_linear_regression.ipynb\" target=\"_parent\"><img src=\"https://colab.research.google.com/assets/colab-badge.svg\" alt=\"Open In Colab\"/></a>"
      ]
    },
    {
      "cell_type": "markdown",
      "source": [
        "simplest Supervised Learning example with python Ex1:"
      ],
      "metadata": {
        "id": "fYYMO9lKtV-Q"
      }
    },
    {
      "cell_type": "code",
      "source": [
        "# prompt: can give simplest Supervised Learning example with python\n",
        "\n",
        "# Import the necessary libraries\n",
        "import numpy as np\n",
        "from sklearn.linear_model import LinearRegression\n",
        "\n",
        "# Create some data\n",
        "X = np.array([[1], [2], [3], [4]])\n",
        "y = np.array([2, 4, 6, 8])\n",
        "\n",
        "# Create a linear regression model\n",
        "model = LinearRegression()\n",
        "\n",
        "# Train the model\n",
        "model.fit(X, y)\n",
        "\n",
        "# Make predictions\n",
        "y_pred = model.predict([[5]])\n",
        "\n",
        "# Print the predictions\n",
        "print(y_pred)"
      ],
      "metadata": {
        "id": "PzFqAQQBs31g",
        "outputId": "f3f24d3b-4ef8-4b8b-fbff-69d8e7427f50",
        "colab": {
          "base_uri": "https://localhost:8080/"
        }
      },
      "execution_count": 1,
      "outputs": [
        {
          "output_type": "stream",
          "name": "stdout",
          "text": [
            "[10.]\n"
          ]
        }
      ]
    },
    {
      "cell_type": "markdown",
      "source": [
        "simplest Supervised Learning example with python Ex2:"
      ],
      "metadata": {
        "id": "8inVSEYWtZ-w"
      }
    },
    {
      "cell_type": "code",
      "source": [
        "# prompt: can give simplest Supervised Learning example with python\n",
        "\n",
        "import numpy as np\n",
        "from sklearn.linear_model import LinearRegression\n",
        "\n",
        "# Create a simple dataset\n",
        "X = np.array([[1], [2], [3], [4]])\n",
        "y = np.array([2, 4, 6, 8])\n",
        "\n",
        "# Train the linear regression model\n",
        "model = LinearRegression()\n",
        "model.fit(X, y)\n",
        "\n",
        "# Make predictions\n",
        "y_pred = model.predict(np.array([[5], [6]]))\n",
        "\n",
        "# Print the predictions\n",
        "print(y_pred)"
      ],
      "metadata": {
        "id": "vBZsVShXs8Nj",
        "outputId": "12b66855-2877-40a6-abd9-4edb0f2f9e5a",
        "colab": {
          "base_uri": "https://localhost:8080/"
        }
      },
      "execution_count": 2,
      "outputs": [
        {
          "output_type": "stream",
          "name": "stdout",
          "text": [
            "[10. 12.]\n"
          ]
        }
      ]
    },
    {
      "cell_type": "markdown",
      "source": [
        "simplest Supervised Learning example with python Ex3:"
      ],
      "metadata": {
        "id": "-4-L0SFltcUZ"
      }
    },
    {
      "cell_type": "code",
      "source": [
        "# prompt: can give simplest Supervised Learning example with python\n",
        "\n",
        "# Import the necessary libraries\n",
        "from sklearn.linear_model import LinearRegression\n",
        "\n",
        "# Create a linear regression model\n",
        "model = LinearRegression()\n",
        "\n",
        "# Prepare the training data\n",
        "X_train = [[1], [2], [3], [4]]\n",
        "y_train = [2, 4, 6, 8]\n",
        "\n",
        "# Train the model\n",
        "model.fit(X_train, y_train)\n",
        "\n",
        "# Make predictions\n",
        "X_test = [[5]]\n",
        "y_pred = model.predict(X_test)\n",
        "\n",
        "# Print the predictions\n",
        "print(y_pred)"
      ],
      "metadata": {
        "id": "rP-AbjOEtB-p",
        "outputId": "dbd42f11-0a9e-4593-ed67-ebdc8e7a15c7",
        "colab": {
          "base_uri": "https://localhost:8080/"
        }
      },
      "execution_count": 3,
      "outputs": [
        {
          "output_type": "stream",
          "name": "stdout",
          "text": [
            "[10.]\n"
          ]
        }
      ]
    },
    {
      "cell_type": "markdown",
      "source": [
        "simplest Supervised Learning example with python Ex4:"
      ],
      "metadata": {
        "id": "roSDcPhDtexr"
      }
    },
    {
      "cell_type": "code",
      "source": [
        "# prompt: can give simplest Supervised Learning example with python\n",
        "\n",
        "# Import the necessary libraries\n",
        "from sklearn.linear_model import LinearRegression\n",
        "\n",
        "# Create a linear regression model\n",
        "model = LinearRegression()\n",
        "\n",
        "# Prepare the training data\n",
        "X = [[1], [2], [3], [4]]\n",
        "y = [2, 4, 6, 8]\n",
        "\n",
        "# Train the model\n",
        "model.fit(X, y)\n",
        "\n",
        "# Prepare the test data\n",
        "X_test = [[5]]\n",
        "\n",
        "# Predict the output for the test data\n",
        "y_predicted = model.predict(X_test)\n",
        "\n",
        "# Print the predicted output\n",
        "print(y_predicted)\n"
      ],
      "metadata": {
        "id": "djiBlSW5tJj6",
        "outputId": "b79daab4-3a65-4fd0-ae2f-95a7ec2a1ea2",
        "colab": {
          "base_uri": "https://localhost:8080/"
        }
      },
      "execution_count": 4,
      "outputs": [
        {
          "output_type": "stream",
          "name": "stdout",
          "text": [
            "[10.]\n"
          ]
        }
      ]
    },
    {
      "cell_type": "code",
      "source": [
        "# prompt: please give simplest linear regression example without scikitlearn\n",
        "\n",
        "# Import the necessary libraries\n",
        "\n",
        "import numpy as np\n",
        "\n",
        "# Create some data\n",
        "X = np.array([[1], [2], [3], [4]])\n",
        "y = np.array([2, 4, 6, 8])\n",
        "\n",
        "# Calculate the means of X and y\n",
        "mean_x = np.mean(X)\n",
        "mean_y = np.mean(y)\n",
        "\n",
        "# Calculate the numerator and denominator of the slope\n",
        "num = 0\n",
        "den = 0\n",
        "for i in range(len(X)):\n",
        "  num += (X[i] - mean_x) * (y[i] - mean_y)\n",
        "  den += (X[i] - mean_x) ** 2\n",
        "\n",
        "# Calculate the slope and intercept\n",
        "slope = num / den\n",
        "intercept = mean_y - slope * mean_x\n",
        "\n",
        "# Make predictions\n",
        "y_pred = slope * X + intercept\n",
        "\n",
        "# Print the predictions\n",
        "print(y_pred)\n"
      ],
      "metadata": {
        "id": "ekXbeBUkthwK",
        "outputId": "4a8433c2-231c-4248-aec6-acce3af74dde",
        "colab": {
          "base_uri": "https://localhost:8080/"
        }
      },
      "execution_count": 5,
      "outputs": [
        {
          "output_type": "stream",
          "name": "stdout",
          "text": [
            "[[2.]\n",
            " [4.]\n",
            " [6.]\n",
            " [8.]]\n"
          ]
        }
      ]
    },
    {
      "cell_type": "code",
      "source": [
        "def predict(x, m, b):\n",
        "  return m * x + b\n",
        "\n",
        "# Create some data\n",
        "X = np.array([1, 2, 3, 4])\n",
        "y = np.array([2, 4, 6, 8])\n",
        "\n",
        "# Initialize the parameters\n",
        "m = 0\n",
        "b = 0\n",
        "\n",
        "# Perform gradient descent\n",
        "for i in range(1000):\n",
        "  # Calculate the gradients\n",
        "  y_predicted = predict(X, m, b)\n",
        "  gradient_m = -2 * np.sum(X * (y - y_predicted))\n",
        "  gradient_b = -2 * np.sum(y - y_predicted)\n",
        "\n",
        "  # Update the parameters\n",
        "  m -= 0.01 * gradient_m\n",
        "  b -= 0.01 * gradient_b\n",
        "\n",
        "# Make predictions\n",
        "X_test = np.array([5])\n",
        "y_pred = predict(X_test, m, b)\n",
        "\n",
        "# Print the predictions\n",
        "print(y_pred)\n"
      ],
      "metadata": {
        "id": "AqwX9OnsuDJE",
        "outputId": "dbbe6f7f-3f14-4325-f9d0-a8e83bfcbb84",
        "colab": {
          "base_uri": "https://localhost:8080/"
        }
      },
      "execution_count": 6,
      "outputs": [
        {
          "output_type": "stream",
          "name": "stdout",
          "text": [
            "[9.9999975]\n"
          ]
        }
      ]
    },
    {
      "cell_type": "code",
      "source": [
        "# prompt: please give simplest linear regression example without scikitlearn\n",
        "\n",
        "import numpy as np\n",
        "\n",
        "# Create a simple dataset\n",
        "X = np.array([[1], [2], [3], [4]])\n",
        "y = np.array([2, 4, 6, 8])\n",
        "\n",
        "# Calculate the mean of X and y\n",
        "mean_x = np.mean(X)\n",
        "mean_y = np.mean(y)\n",
        "\n",
        "# Calculate the slope of the regression line\n",
        "m = np.sum((X - mean_x) * (y - mean_y)) / np.sum((X - mean_x) ** 2)\n",
        "\n",
        "# Calculate the y-intercept of the regression line\n",
        "b = mean_y - m * mean_x\n",
        "\n",
        "# Print the slope and y-intercept\n",
        "print(\"Slope:\", m)\n",
        "print(\"Y-intercept:\", b)\n",
        "\n",
        "# Make predictions\n",
        "X_test = np.array([[5]])\n",
        "y_pred = m * X_test + b\n",
        "\n",
        "# Print the predictions\n",
        "print(\"Predictions:\", y_pred)\n"
      ],
      "metadata": {
        "id": "n0iOompquJ74",
        "outputId": "261407d7-29ee-40cb-b3d3-059e6b13ca1b",
        "colab": {
          "base_uri": "https://localhost:8080/"
        }
      },
      "execution_count": 7,
      "outputs": [
        {
          "output_type": "stream",
          "name": "stdout",
          "text": [
            "Slope: 0.0\n",
            "Y-intercept: 5.0\n",
            "Predictions: [[5.]]\n"
          ]
        }
      ]
    },
    {
      "cell_type": "code",
      "source": [
        "# prompt: please give simplest linear regression example without scikitlearn\n",
        "\n",
        "# Create a simple dataset\n",
        "X = np.array([[1], [2], [3], [4]])\n",
        "y = np.array([2, 4, 6, 8])\n",
        "\n",
        "# Calculate the means of X and y\n",
        "mean_x = np.mean(X)\n",
        "mean_y = np.mean(y)\n",
        "\n",
        "# Calculate the slope of the regression line\n",
        "slope = np.sum((X - mean_x) * (y - mean_y)) / np.sum((X - mean_x) ** 2)\n",
        "\n",
        "# Calculate the intercept of the regression line\n",
        "intercept = mean_y - slope * mean_x\n",
        "\n",
        "# Make predictions\n",
        "y_pred = slope * X + intercept\n",
        "\n",
        "# Print the predictions\n",
        "print(y_pred)\n"
      ],
      "metadata": {
        "id": "NwZFIKyiuL4f",
        "outputId": "393f3d7c-b8ba-4d4e-c69f-2334857d0297",
        "colab": {
          "base_uri": "https://localhost:8080/"
        }
      },
      "execution_count": 8,
      "outputs": [
        {
          "output_type": "stream",
          "name": "stdout",
          "text": [
            "[[5.]\n",
            " [5.]\n",
            " [5.]\n",
            " [5.]]\n"
          ]
        }
      ]
    },
    {
      "cell_type": "code",
      "source": [
        "# prompt: please give simplest linear regression example without scikitlearn\n",
        "\n",
        "# Import the necessary libraries\n",
        "\n",
        "import numpy as np\n",
        "\n",
        "# Create some data\n",
        "X = np.array([[1], [2], [3], [4]])\n",
        "y = np.array([2, 4, 6, 8])\n",
        "\n",
        "# Calculate the means of X and y\n",
        "mean_x = np.mean(X)\n",
        "mean_y = np.mean(y)\n",
        "\n",
        "# Calculate the numerator and denominator of the slope\n",
        "num = 0\n",
        "den = 0\n",
        "for i in range(len(X)):\n",
        "  num += (X[i] - mean_x) * (y[i] - mean_y)\n",
        "  den += (X[i] - mean_x) ** 2\n",
        "\n",
        "# Calculate the slope and intercept\n",
        "slope = num / den\n",
        "intercept = mean_y - slope * mean_x\n",
        "\n",
        "# Make predictions\n",
        "y_pred = slope * X + intercept\n",
        "\n",
        "# Print the predictions\n",
        "print(y_pred)"
      ],
      "metadata": {
        "id": "pb-Vw7xbuVCx",
        "outputId": "71837214-61c1-4394-dff3-6fa870a90ae5",
        "colab": {
          "base_uri": "https://localhost:8080/"
        }
      },
      "execution_count": 9,
      "outputs": [
        {
          "output_type": "stream",
          "name": "stdout",
          "text": [
            "[[2.]\n",
            " [4.]\n",
            " [6.]\n",
            " [8.]]\n"
          ]
        }
      ]
    }
  ],
  "metadata": {
    "colab": {
      "name": "歡迎使用 Colaboratory",
      "toc_visible": true,
      "provenance": [],
      "include_colab_link": true
    },
    "kernelspec": {
      "display_name": "Python 3",
      "name": "python3"
    }
  },
  "nbformat": 4,
  "nbformat_minor": 0
}